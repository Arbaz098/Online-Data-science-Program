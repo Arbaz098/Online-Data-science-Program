{
 "cells": [
  {
   "cell_type": "code",
   "execution_count": 4,
   "id": "d408bf32",
   "metadata": {},
   "outputs": [
    {
     "name": "stdout",
     "output_type": "stream",
     "text": [
      "Enter the radius of required Circle23\n",
      "The Area of Circle is 1662.118 m2\n"
     ]
    }
   ],
   "source": [
    "r=float(input(\"Enter the radius of required Circle\"))\n",
    "A=3.142*r**2\n",
    "print(\"The Area of Circle is\" ,A,\"m2\")"
   ]
  },
  {
   "cell_type": "code",
   "execution_count": null,
   "id": "6a5af548",
   "metadata": {},
   "outputs": [],
   "source": []
  }
 ],
 "metadata": {
  "kernelspec": {
   "display_name": "Python 3",
   "language": "python",
   "name": "python3"
  },
  "language_info": {
   "codemirror_mode": {
    "name": "ipython",
    "version": 3
   },
   "file_extension": ".py",
   "mimetype": "text/x-python",
   "name": "python",
   "nbconvert_exporter": "python",
   "pygments_lexer": "ipython3",
   "version": "3.8.8"
  }
 },
 "nbformat": 4,
 "nbformat_minor": 5
}
