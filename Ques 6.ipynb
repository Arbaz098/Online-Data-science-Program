{
 "cells": [
  {
   "cell_type": "code",
   "execution_count": 1,
   "id": "185dc329",
   "metadata": {},
   "outputs": [
    {
     "name": "stdout",
     "output_type": "stream",
     "text": [
      "Enter the First number2\n",
      "Enter the Second number3\n",
      "5.0\n"
     ]
    }
   ],
   "source": [
    "first_num=float(input(\"Enter the First number\"))\n",
    "second_num=float(input(\"Enter the Second number\"))\n",
    "print(first_num+second_num)"
   ]
  },
  {
   "cell_type": "code",
   "execution_count": null,
   "id": "362d0163",
   "metadata": {},
   "outputs": [],
   "source": []
  }
 ],
 "metadata": {
  "kernelspec": {
   "display_name": "Python 3",
   "language": "python",
   "name": "python3"
  },
  "language_info": {
   "codemirror_mode": {
    "name": "ipython",
    "version": 3
   },
   "file_extension": ".py",
   "mimetype": "text/x-python",
   "name": "python",
   "nbconvert_exporter": "python",
   "pygments_lexer": "ipython3",
   "version": "3.8.8"
  }
 },
 "nbformat": 4,
 "nbformat_minor": 5
}
